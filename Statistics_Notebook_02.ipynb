{
 "cells": [
  {
   "cell_type": "markdown",
   "id": "33b86432-0125-466c-8f7f-04cc4253e390",
   "metadata": {},
   "source": [
    "# Statistics Notebook 02\n",
    "<br>\n",
    "This is the second notebook of the series of statistics methods using python modules such as Numpy, SciPy.stats and statmodels. <br>\n",
    "This notbook covers the methods using Scipuy.stats"
   ]
  },
  {
   "cell_type": "markdown",
   "id": "a324ff3f-a18b-4c3b-a3d9-1e67f58cf28a",
   "metadata": {},
   "source": [
    "### Import required libraries "
   ]
  },
  {
   "cell_type": "code",
   "execution_count": 3,
   "id": "9300ad37-46f4-4dc2-ace7-11119605fae7",
   "metadata": {},
   "outputs": [],
   "source": [
    "import numpy as np\n",
    "import pandas as pd\n",
    "from scipy import stats \n",
    "import matplotlib.pyplot as plt \n",
    "import seaborn as sns "
   ]
  },
  {
   "cell_type": "code",
   "execution_count": 4,
   "id": "0e8d0a4e-51d3-4cff-86a7-480c30828529",
   "metadata": {},
   "outputs": [],
   "source": [
    "#1 Normal distribution object \n",
    "X = stats.norm(1,0.5) # Mean =1 and Standard deviation = 0.5"
   ]
  },
  {
   "cell_type": "markdown",
   "id": "cfb0b5e8-e918-4857-8ead-b5fbb38dd838",
   "metadata": {},
   "source": [
    "X is an object that represents a random variable having mean 1 and standard deviation of 0.5. The object X can be used to get other properties of this distribution such as pdf, cdf, sf, ppf, etc. See the examples below. "
   ]
  },
  {
   "cell_type": "markdown",
   "id": "e98f8a83-75bb-4acd-b57c-ae62a514370f",
   "metadata": {},
   "source": [
    "Start with descriptive statistics, Mean, standard deviationa and variance "
   ]
  },
  {
   "cell_type": "code",
   "execution_count": 5,
   "id": "ba98f9b4-4910-402e-b3c7-d9e6df1045e4",
   "metadata": {},
   "outputs": [
    {
     "data": {
      "text/plain": [
       "1.0"
      ]
     },
     "execution_count": 5,
     "metadata": {},
     "output_type": "execute_result"
    }
   ],
   "source": [
    "X.mean()"
   ]
  },
  {
   "cell_type": "code",
   "execution_count": 6,
   "id": "92491495-e172-4daa-9710-0aa48f1f885c",
   "metadata": {},
   "outputs": [
    {
     "data": {
      "text/plain": [
       "0.5"
      ]
     },
     "execution_count": 6,
     "metadata": {},
     "output_type": "execute_result"
    }
   ],
   "source": [
    "X.std()"
   ]
  },
  {
   "cell_type": "code",
   "execution_count": 7,
   "id": "6c3b7973-e076-47be-9c46-cd27002f70ab",
   "metadata": {},
   "outputs": [
    {
     "data": {
      "text/plain": [
       "0.25"
      ]
     },
     "execution_count": 7,
     "metadata": {},
     "output_type": "execute_result"
    }
   ],
   "source": [
    "X.var()"
   ]
  },
  {
   "cell_type": "markdown",
   "id": "f7fd6c34-afd3-486c-9442-4a0f5b4b2ae0",
   "metadata": {},
   "source": [
    "\"stats\" method returns the inputs used to create this object"
   ]
  },
  {
   "cell_type": "code",
   "execution_count": 8,
   "id": "4a1ca84c-2c49-41eb-995e-2452a5d46bd5",
   "metadata": {},
   "outputs": [
    {
     "data": {
      "text/plain": [
       "(array(1.), array(0.25))"
      ]
     },
     "execution_count": 8,
     "metadata": {},
     "output_type": "execute_result"
    }
   ],
   "source": [
    "X.stats() # This returns mean and variance"
   ]
  },
  {
   "cell_type": "markdown",
   "id": "f631fe08-913c-40c4-aadb-8818c9e22228",
   "metadata": {},
   "source": [
    "I am going to estimate the probability distribution function (pdf) and cumulative distribution function (cdf) here. "
   ]
  },
  {
   "cell_type": "code",
   "execution_count": 9,
   "id": "00de990b-b7e6-4dd6-92c1-0763baee005b",
   "metadata": {},
   "outputs": [
    {
     "data": {
      "text/plain": [
       "array([0.10798193, 0.79788456, 0.10798193])"
      ]
     },
     "execution_count": 9,
     "metadata": {},
     "output_type": "execute_result"
    }
   ],
   "source": [
    "X.pdf([0,1,2])"
   ]
  },
  {
   "cell_type": "code",
   "execution_count": 10,
   "id": "d6a8e85b-6f4d-4d23-9203-a9a2297dddab",
   "metadata": {},
   "outputs": [
    {
     "data": {
      "text/plain": [
       "[<matplotlib.lines.Line2D at 0x2bab801e760>]"
      ]
     },
     "execution_count": 10,
     "metadata": {},
     "output_type": "execute_result"
    },
    {
     "data": {
      "image/png": "[encoded data removed]",
      "text/plain": [
       "<Figure size 432x288 with 1 Axes>"
      ]
     },
     "metadata": {
      "needs_background": "light"
     },
     "output_type": "display_data"
    }
   ],
   "source": [
    "plt.plot([0,1,2], X.pdf([0,1,2]))"
   ]
  },
  {
   "cell_type": "markdown",
   "id": "32f5c9c4-a2f0-44e8-a223-21936a83b346",
   "metadata": {},
   "source": [
    "Here, I input a list \"[0,1,2]\" to compute the pdf. pdf method produces the probability to find 0, 1 and 2 in the sample, provided mean is 1 and standard deviation is 0.5. As expected, 1 has a high probability. 0 and 2 have low probabiloties. "
   ]
  },
  {
   "cell_type": "code",
   "execution_count": 11,
   "id": "a7ada022-ca3f-422e-ad7c-0a2fa9337180",
   "metadata": {},
   "outputs": [
    {
     "data": {
      "text/plain": [
       "array([0., 0., 0.])"
      ]
     },
     "execution_count": 11,
     "metadata": {},
     "output_type": "execute_result"
    }
   ],
   "source": [
    "X.pdf([100,101,102])"
   ]
  },
  {
   "cell_type": "markdown",
   "id": "d3a87363-36b5-4dfd-89f7-a02979e3f81b",
   "metadata": {},
   "source": [
    "I replaced the list with \"[101,102,103]\". Remember that, our random variable object, \"X\" is created using mean=1 and std = 0.5. Finding a mean of 1 is impossible from this input. Therefore, the pdf is all zero in this case. "
   ]
  },
  {
   "cell_type": "code",
   "execution_count": 12,
   "id": "c00f299c-d39f-482b-8801-c86dbe749866",
   "metadata": {},
   "outputs": [
    {
     "data": {
      "text/plain": [
       "[<matplotlib.lines.Line2D at 0x2baba11f310>]"
      ]
     },
     "execution_count": 12,
     "metadata": {},
     "output_type": "execute_result"
    },
    {
     "data": {
      "image/png": "[encoded data removed]",
      "text/plain": [
       "<Figure size 432x288 with 1 Axes>"
      ]
     },
     "metadata": {
      "needs_background": "light"
     },
     "output_type": "display_data"
    }
   ],
   "source": [
    "plt.plot([100,101,102], X.pdf([100,101,102]), '-o')"
   ]
  },
  {
   "cell_type": "code",
   "execution_count": 16,
   "id": "58911475-7764-49f0-978c-36a5a37c5570",
   "metadata": {},
   "outputs": [
    {
     "name": "stdout",
     "output_type": "stream",
     "text": [
      "[0.02275013 0.5        0.97724987]\n"
     ]
    },
    {
     "data": {
      "text/plain": [
       "array([0.10798193, 0.79788456, 0.10798193])"
      ]
     },
     "execution_count": 16,
     "metadata": {},
     "output_type": "execute_result"
    }
   ],
   "source": [
    "print(X.cdf([0,1,2]))\n",
    "X.pdf([0,1,2])"
   ]
  },
  {
   "cell_type": "code",
   "execution_count": 19,
   "id": "add0092a-1bf3-4cc2-ab12-8758f8fa3461",
   "metadata": {},
   "outputs": [
    {
     "data": {
      "text/plain": [
       "[<matplotlib.lines.Line2D at 0x2babba59580>]"
      ]
     },
     "execution_count": 19,
     "metadata": {},
     "output_type": "execute_result"
    },
    {
     "data": {
      "image/png": "[encoded data removed]",
      "text/plain": [
       "<Figure size 432x288 with 1 Axes>"
      ]
     },
     "metadata": {
      "needs_background": "light"
     },
     "output_type": "display_data"
    }
   ],
   "source": [
    "plt.plot(X.cdf([0,1,2]),'-o')\n",
    "plt.plot(X.pdf([0,1,2]),'-o')"
   ]
  },
  {
   "cell_type": "markdown",
   "id": "1bd0b78e-9eca-446e-85c7-5b4950b22c99",
   "metadata": {},
   "source": [
    "CDF is cumulative distribution function or in plain language accumulated probability <br>\n",
    "CDF is bound between 0 and 1 \n",
    "<br> CDF is the sum of area under the PDF curve.\n",
    "<"
   ]
  },
  {
   "cell_type": "code",
   "execution_count": null,
   "id": "a025d180-d8aa-4669-8dea-37e735501683",
   "metadata": {},
   "outputs": [],
   "source": []
  }
 ],
 "metadata": {
  "kernelspec": {
   "display_name": "Python 3",
   "language": "python",
   "name": "python3"
  },
  "language_info": {
   "codemirror_mode": {
    "name": "ipython",
    "version": 3
   },
   "file_extension": ".py",
   "mimetype": "text/x-python",
   "name": "python",
   "nbconvert_exporter": "python",
   "pygments_lexer": "ipython3",
   "version": "3.8.10"
  }
 },
 "nbformat": 4,
 "nbformat_minor": 5
}
